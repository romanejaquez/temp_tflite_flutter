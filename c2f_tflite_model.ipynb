{
  "nbformat": 4,
  "nbformat_minor": 0,
  "metadata": {
    "colab": {
      "provenance": []
    },
    "kernelspec": {
      "name": "python3",
      "display_name": "Python 3"
    },
    "language_info": {
      "name": "python"
    }
  },
  "cells": [
    {
      "cell_type": "markdown",
      "source": [
        "##On-Device ML using Tensorflow Lite##\n",
        "###Companion Colab Notebook for the Medium article by Roman Jaquez###\n",
        "[asdfasd](dfdsfa)\n",
        "\n",
        "In this tutorial we'll achieve the following:\n",
        "\n",
        "Build and training a simple ML model that converts a value from celsius to\n",
        "\n",
        "* Fahrenheit (from scratch) using a Google Colab notebook.\n",
        "* Export our trained model out of Google Colab as a TensorFlow Lite model for on-device consumption\n",
        "\n",
        "### Benefits of On-Device ML:###\n",
        "* Low Latency: By having the ML model right on your device, you can feed it user-generated data (text, audio, video) in real-time.\n",
        "* Keep data on-device: Great for user privacy - the data doesn't leave the device and you can perform inference locally.\n",
        "* Works offline: Lack of reliance on a network connection or having to run a service in the cloud makes this attractive - all processing happens on the device.\n",
        "\n",
        "\n",
        "\n",
        "###Building your ML Model in Google Colab###\n",
        "Google Colab is free to use, and. you should use a valid Gmail account to access it.\n",
        "\n",
        "The problem we will solve is to convert from Celsius to Fahrenheit, where the approximate formula is:\n",
        "\n",
        "```𝑓=𝑐×1.8+32```\n",
        "\n",
        "Of course, it would be simple enough to create a conventional Dart function that directly performs this calculation, but that wouldn't be machine learning.\n",
        "\n",
        "Instead, we will give TensorFlow some sample Celsius values (0, 5, 10, 15, 20) and their corresponding Fahrenheit values (32, 41, 50, 59, 68). Then, we will train a model that figures out the above formula through the training process.\n",
        "\n",
        "###Import Dependencies###\n",
        "We need to import Tensorflow; use an alias - tf for short- as well as libraries such as numpy (commonly used in machine learning)"
      ],
      "metadata": {
        "id": "ZDprFE92kG8g"
      }
    },
    {
      "cell_type": "code",
      "execution_count": 1,
      "metadata": {
        "id": "TiduH_CS2glo"
      },
      "outputs": [],
      "source": [
        "import tensorflow as tf\n",
        "import numpy as np"
      ]
    },
    {
      "cell_type": "markdown",
      "source": [
        "###Define the training data###\n",
        "We'll be performing Supervised Machine Learning - which is all about figuring out an algorithm given a set of inputs and outputs. We want a model that given the degree in Celsius, it yields the degree in Fahrenheit, so we will create two lists - one called celsius_features and fahrenheit_labels, type float - that we will use to train our model."
      ],
      "metadata": {
        "id": "UJ2t3ZN2lET_"
      }
    },
    {
      "cell_type": "code",
      "source": [
        "celsius_features = np.array([0, 5,  10, 15, 20, 25, 30, 35, 40,   45, 50,  55,  60, 65,  70, 75,   80,  85, 90, 95, 100],  dtype=float)\n",
        "fahrenheit_labels = np.array([32, 41, 50, 59, 68, 77, 86, 95, 104, 113, 122, 131, 140, 149, 158, 167, 176, 185, 194, 203, 212],  dtype=float)\n",
        "\n",
        "for i,c in enumerate(celsius_features):\n",
        "  print(\"{} degrees Celsius = {} degrees Fahrenheit\".format(c, fahrenheit_labels[i]))"
      ],
      "metadata": {
        "colab": {
          "base_uri": "https://localhost:8080/"
        },
        "id": "mo4tpH169j5L",
        "outputId": "a90f1789-c2b3-48f0-b915-f76380bdecfc"
      },
      "execution_count": 2,
      "outputs": [
        {
          "output_type": "stream",
          "name": "stdout",
          "text": [
            "0.0 degrees Celsius = 32.0 degrees Fahrenheit\n",
            "5.0 degrees Celsius = 41.0 degrees Fahrenheit\n",
            "10.0 degrees Celsius = 50.0 degrees Fahrenheit\n",
            "15.0 degrees Celsius = 59.0 degrees Fahrenheit\n",
            "20.0 degrees Celsius = 68.0 degrees Fahrenheit\n",
            "25.0 degrees Celsius = 77.0 degrees Fahrenheit\n",
            "30.0 degrees Celsius = 86.0 degrees Fahrenheit\n",
            "35.0 degrees Celsius = 95.0 degrees Fahrenheit\n",
            "40.0 degrees Celsius = 104.0 degrees Fahrenheit\n",
            "45.0 degrees Celsius = 113.0 degrees Fahrenheit\n",
            "50.0 degrees Celsius = 122.0 degrees Fahrenheit\n",
            "55.0 degrees Celsius = 131.0 degrees Fahrenheit\n",
            "60.0 degrees Celsius = 140.0 degrees Fahrenheit\n",
            "65.0 degrees Celsius = 149.0 degrees Fahrenheit\n",
            "70.0 degrees Celsius = 158.0 degrees Fahrenheit\n",
            "75.0 degrees Celsius = 167.0 degrees Fahrenheit\n",
            "80.0 degrees Celsius = 176.0 degrees Fahrenheit\n",
            "85.0 degrees Celsius = 185.0 degrees Fahrenheit\n",
            "90.0 degrees Celsius = 194.0 degrees Fahrenheit\n",
            "95.0 degrees Celsius = 203.0 degrees Fahrenheit\n",
            "100.0 degrees Celsius = 212.0 degrees Fahrenheit\n"
          ]
        }
      ]
    },
    {
      "cell_type": "markdown",
      "source": [
        "###Some Machine Learning terminology###\n",
        "* Feature - The input(s) to our model. In this case, a single value - the degrees in Celsius.\n",
        "* Labels - The output our model predicts. In this case, a single value - the degrees in Fahrenheit."
      ],
      "metadata": {
        "id": "9FfJkwBrlIoe"
      }
    },
    {
      "cell_type": "markdown",
      "source": [
        "###Create the model###\n",
        "The next step is to create the model. A Dense network is the simplest TensorFlow model we can use since our problem is pretty is straightforward. This will be a network with a single layer, and a single neuron.\n",
        "###Build a layer###\n",
        "We'll call the layer layer_0 by using the tf.keras.layers.Dense and the following parameters:\n",
        "* input_shape=[1]: this means the input to this layer is a single value - the shape of a one-dimensional array with one member. Since this is the first (and only) layer, the input shape is the input shape of the entire model. The single value is a floating point number, which represents the degrees Celsius.\n",
        "* units=1: the number of neurons in the layer, or what defines how many internal variables the layer has to try to learn to solve the problem. Since this is the final layer, it is also the size of the model's output - a single floating point number representing degrees Fahrenheit."
      ],
      "metadata": {
        "id": "YDJ-GEyYlNer"
      }
    },
    {
      "cell_type": "code",
      "source": [
        "layer_0 = tf.keras.layers.Dense(units=1, input_shape=[1])"
      ],
      "metadata": {
        "id": "tGAzuy-29aWV"
      },
      "execution_count": 3,
      "outputs": []
    },
    {
      "cell_type": "markdown",
      "source": [
        "Add the layer to a Sequential model, appropriate for a plain stack of layers where each layer has exactly one input tensor and one output tensor:"
      ],
      "metadata": {
        "id": "KMkxqiltlU9V"
      }
    },
    {
      "cell_type": "code",
      "source": [
        "model = tf.keras.Sequential([layer_0])"
      ],
      "metadata": {
        "id": "I9-jjbuo9gYc"
      },
      "execution_count": 4,
      "outputs": []
    },
    {
      "cell_type": "markdown",
      "source": [
        "###Compile the model, with loss and optimizer functions###\n",
        "You must compile the model before training occurs. During compilation of the model, you must provide the following to the model:\n",
        "Loss function - A way of measuring how far off predictions are from the desired outcome. (The measured difference is called the \"loss\"). In our case, the \"mean_squared_error\".\n",
        "Optimizer function - A way of adjusting internal values in order to reduce the loss; in our case, an optimizer that implements the Adam algorithm."
      ],
      "metadata": {
        "id": "73ZqFqtElYR0"
      }
    },
    {
      "cell_type": "code",
      "source": [
        "model.compile(loss='mean_squared_error',\n",
        "              optimizer=tf.keras.optimizers.Adam(0.1))"
      ],
      "metadata": {
        "id": "r2Y2bUhO_GOV"
      },
      "execution_count": 5,
      "outputs": []
    },
    {
      "cell_type": "markdown",
      "source": [
        "###Train the model###\n",
        "Train the model by calling fit on the model.\n",
        "\n",
        "During training, the model takes in Celsius values, performs a calculation using the current internal variables (called \"weights\") and outputs values which are meant to be the Fahrenheit equivalent. Since the weights are initially set randomly, the output will not be close to the correct value.\n",
        "\n",
        "The difference between the actual output and the desired output is calculated using the loss function, and the optimizer function directs how the weights should be adjusted.\n",
        "\n",
        "This cycle of calculate, compare, adjust is controlled by the fit method. The first argument is the inputs, the second argument is the desired outputs. The epochs argument specifies how many times this cycle should be run, and the verbose argument controls how much output the method produces."
      ],
      "metadata": {
        "id": "qPQDWM-EldCF"
      }
    },
    {
      "cell_type": "code",
      "source": [
        "model.fit(celsius_features, fahrenheit_labels, epochs=2000, verbose=False)\n",
        "print(\"Finished training the model\")"
      ],
      "metadata": {
        "colab": {
          "base_uri": "https://localhost:8080/"
        },
        "id": "PCs8-pVaACAd",
        "outputId": "4479f053-2e01-4310-c899-16e4efa6a359"
      },
      "execution_count": 6,
      "outputs": [
        {
          "output_type": "stream",
          "name": "stdout",
          "text": [
            "Finished training the model\n"
          ]
        }
      ]
    },
    {
      "cell_type": "markdown",
      "source": [
        "###Use the model to predict values###\n",
        "Congrats! You've just trained a model that has been trained to learn the relationship between celsius_features and fahrenheit_labels. With that done, you can proceed and use the predict method in order to have it calculate the Fahrenheit degrees for a previously unknown Celsius degrees.\n",
        "\n",
        "So, for example, if the Celsius value is 0, what do you think the Fahrenheit result will be? Take a guess before you run this code."
      ],
      "metadata": {
        "id": "bHSgXw0rlj3E"
      }
    },
    {
      "cell_type": "code",
      "source": [
        "print(model.predict([0.0]))"
      ],
      "metadata": {
        "colab": {
          "base_uri": "https://localhost:8080/"
        },
        "id": "lky14TRjAoYc",
        "outputId": "5051680b-c93b-4bce-9b3a-a3ebe597b8f4"
      },
      "execution_count": 7,
      "outputs": [
        {
          "output_type": "stream",
          "name": "stdout",
          "text": [
            "1/1 [==============================] - 0s 169ms/step\n",
            "[[31.341253]]\n"
          ]
        }
      ]
    },
    {
      "cell_type": "markdown",
      "source": [
        "###Save and Export your Trained Model###\n",
        "Let's get our model out of Google Colab for consumption.\n",
        "\n",
        "But first let's do some configuration to accomplish this.\n",
        "\n",
        "Save the model in the Tensorflow format (tf). The saved model contains:\n",
        "* the model's configuration (architecture)\n",
        "* the model's weights\n",
        "* the model's optimizer state (if any)\n",
        "\n",
        "Store the name of the path of our model in an environment variable called KERAS_MODEL_PATH, as such:"
      ],
      "metadata": {
        "id": "7oquKn4tlpGt"
      }
    },
    {
      "cell_type": "code",
      "source": [
        "KERAS_MODEL_PATH = 'tf_keras_c2f.tf'"
      ],
      "metadata": {
        "id": "3xeWkXO5DBv5"
      },
      "execution_count": 8,
      "outputs": []
    },
    {
      "cell_type": "markdown",
      "source": [
        "Save the model using the provided path in the tf format, as such:"
      ],
      "metadata": {
        "id": "LJwbTb8dlvsQ"
      }
    },
    {
      "cell_type": "code",
      "source": [
        "model.save(KERAS_MODEL_PATH, save_format='tf')"
      ],
      "metadata": {
        "colab": {
          "base_uri": "https://localhost:8080/"
        },
        "id": "WxQZ7LyLDfO-",
        "outputId": "036db518-c918-4a70-a003-eb586eea0230"
      },
      "execution_count": 9,
      "outputs": [
        {
          "output_type": "stream",
          "name": "stderr",
          "text": [
            "WARNING:absl:Found untraced functions such as _update_step_xla while saving (showing 1 of 1). These functions will not be directly callable after loading.\n"
          ]
        }
      ]
    },
    {
      "cell_type": "markdown",
      "source": [
        "With the saved model, now let's proceed to convert our Tensorflow model to a Tensorflow Lite format, for on-device consumption, using the TFLiteConverter utility; save it to your local Google Colab environment, from where you can later download it."
      ],
      "metadata": {
        "id": "t3z-zVUAlyNE"
      }
    },
    {
      "cell_type": "code",
      "source": [
        "converter = tf.lite.TFLiteConverter.from_saved_model(KERAS_MODEL_PATH)\n",
        "tflite_model = converter.convert()\n",
        "\n",
        "# Save the TFLITE model\n",
        "with open('modelc2f.tflite', 'wb') as f:\n",
        "    f.write(tflite_model)"
      ],
      "metadata": {
        "id": "ma5UZgqCElSv"
      },
      "execution_count": 10,
      "outputs": []
    },
    {
      "cell_type": "markdown",
      "source": [
        "Download it by right-clicking on it and selecting Download.\n",
        "Now you have a fully-trained, simple, yet fully-functional ML model that you can use anywhere you can consume a Tensorflow Lite model; all it takes is finding the proper packages and SDK to read the .tflite file, feed it the expected input and just wait for magic to happen!\n",
        "\n",
        "Check out how I developed a Flutter app that consumes this trained ML TFLite model by following this link.\n",
        "\n",
        "### Please don't forget to follow me on social media:\n",
        "\n",
        "- On Twitter ([@drcoderz](https://www.twitter.com/drcoderz))\n",
        "- On YouTube ([Roman Just Codes](https://www.youtube.com/channel/UCKsp3r1ERjCpKJtD2n5WtPg))\n",
        "- On my [Personal Portfolio](https://romanjustcodes.web.app/)\n",
        "- On [Medium](https://medium.com/@romanejaquez)\n",
        "- On [LinkedIn](https://www.linkedin.com/in/roman-jaquez-8941a424/)\n",
        "\n"
      ],
      "metadata": {
        "id": "gmPZK9T_l2pb"
      }
    }
  ]
}